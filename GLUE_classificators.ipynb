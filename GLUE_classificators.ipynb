{
 "cells": [
  {
   "cell_type": "code",
   "execution_count": 1,
   "metadata": {
    "colab": {
     "base_uri": "https://localhost:8080/"
    },
    "id": "ZoSFeG-EsyDL",
    "outputId": "522694b8-1aca-4613-9114-4d2801963a89"
   },
   "outputs": [],
    }
   ],
   "source": [
    "!pip3 install transformers\n",
    "!pip3 install datasets\n",
    "!pip3 install textaugment\n",
    "!pip3 install gensim==3.6.0"
   ]
  },
  {
   "cell_type": "code",
   "execution_count": 2,
   "metadata": {
    "id": "GVXwzJ6U1cbL"
   },
   "outputs": [],
   "source": [
    "import torch\n",
    "import numpy as np\n",
    "import random\n",
    "\n",
    "torch.manual_seed(0)\n",
    "np.random.seed(0)\n",
    "random.seed(0)"
   ]
  },
  {
   "cell_type": "code",
   "execution_count": 3,
   "metadata": {
    "id": "EcFYvC0VfxhS"
   },
   "outputs": [],
   "source": [
    "from gensim import downloader\n",
    "\n",
    "word2vec_model = downloader.load('fasttext-wiki-news-subwords-300')"
   ]
  },
  {
   "cell_type": "code",
   "execution_count": 4,
   "metadata": {
    "id": "gfPXuy5HdESt"
   },
   "outputs": [],
   "source": [
    "from textaugment.word2vec import Word2vec\n",
    "\n",
    "word2vec_augmenter = Word2vec(model=word2vec_model, p=0.5)"
   ]
  },
  {
   "cell_type": "code",
   "execution_count": 5,
   "metadata": {
    "colab": {
     "base_uri": "https://localhost:8080/",
     "height": 165,
     "referenced_widgets": [
      "15da10701e4a4b41ba427c81728a7a89",
      "b43f0ddae05742e98c49cbdd99724157",
      "0d03c3e91a5040b78a965137c1cd3186",
      "adb74075c3a5419ea1255c1307bc4b42",
      "165ec092335c471aba4b92c5694818b0",
      "490ac271cf614a0b8aa942b233268021",
      "8e64ccab8b004fe996003e6bd708aaaf",
      "0892120cd5164b57ba42ce840f7b2215",
      "955ebc8b3e7d4306bbbb7ef744dd0978",
      "db4c6fa80b774b468ca113214e1d8a57",
      "47d5bc9c76444c978b110b0a97666111",
      "3e3c393d27e14d8ca1968e920425e157",
      "122b858f9d1142bc830497af5fba9a62",
      "557b330e13194e2588830e2d5ac91ef1",
      "6a7ebf75257f464f800c1b9a5af30cc0",
      "2164413a236743bb9bd23866359572a5",
      "4493b6125845411aab819edc86816e48",
      "757ef18bb32f447989c38a51e860424b",
      "fc3972327ee04478b6a7587de823ee9d",
      "dc598b7ae277416abe60802188bc2968",
      "e5d7c32687df4e2183cbf225f4c55ae6",
      "3aea9bfd0e244c9e84e08d385a92fc74",
      "24ab6b4539b242778f0a5a05973fe6be",
      "3f9644295f18440dab4e9dd4ee1f7ef5",
      "e866d3ddf4454044972c9e8c3145eb07",
      "f082a03494894c888d3bf0ef71fc28fb",
      "b77c1a46289b443fbf429dceb2fc5d5d",
      "95977757e7714e6eba75ed28219f2421",
      "37498cdc21fd4878b998c81ad78db27b",
      "e212885869384ae58b6dc61efa0bae77",
      "bdcd586f49414d3692c937e064031e18",
      "dae514ddc0b6427eae0b8806a28eb9fd",
      "d7321f25be6043b2acecb1dc63ad7614"
     ]
    },
    "id": "2218peFos2OG",
    "outputId": "ae10f93f-5402-42da-8453-5b84a1c0f006"
   },
   "outputs": [
    {
     "name": "stderr",
     "output_type": "stream",
     "text": [
      "Reusing dataset glue (/home/kutuzov/.cache/huggingface/datasets/glue/cola/1.0.0/dacbe3125aa31d7f70367a07a8a9e72a5a0bfeb5fc42e75c9db75b96da6053ad)\n"
     ]
    },
    {
     "data": {
      "application/vnd.jupyter.widget-view+json": {
       "model_id": "34bbc119cfb849b8847651eaae0a5e88",
       "version_major": 2,
       "version_minor": 0
      },
      "text/plain": [
       "  0%|          | 0/3 [00:00<?, ?it/s]"
      ]
     },
     "metadata": {},
     "output_type": "display_data"
    },
    {
     "name": "stderr",
     "output_type": "stream",
     "text": [
      "Reusing dataset glue (/home/kutuzov/.cache/huggingface/datasets/glue/sst2/1.0.0/dacbe3125aa31d7f70367a07a8a9e72a5a0bfeb5fc42e75c9db75b96da6053ad)\n"
     ]
    },
    {
     "data": {
      "application/vnd.jupyter.widget-view+json": {
       "model_id": "381e3b7f4d7349a982546a2326404aec",
       "version_major": 2,
       "version_minor": 0
      },
      "text/plain": [
       "  0%|          | 0/3 [00:00<?, ?it/s]"
      ]
     },
     "metadata": {},
     "output_type": "display_data"
    },
    {
     "name": "stderr",
     "output_type": "stream",
     "text": [
      "Reusing dataset glue (/home/kutuzov/.cache/huggingface/datasets/glue/rte/1.0.0/dacbe3125aa31d7f70367a07a8a9e72a5a0bfeb5fc42e75c9db75b96da6053ad)\n"
     ]
    },
    {
     "data": {
      "application/vnd.jupyter.widget-view+json": {
       "model_id": "42c1bc4330b54ec5a07323321c8c159e",
       "version_major": 2,
       "version_minor": 0
      },
      "text/plain": [
       "  0%|          | 0/3 [00:00<?, ?it/s]"
      ]
     },
     "metadata": {},
     "output_type": "display_data"
    }
   ],
   "source": [
    "from datasets import load_dataset\n",
    "\n",
    "cola_dataset = load_dataset(\"glue\", \"cola\")\n",
    "sst_dataset = load_dataset(\"glue\", \"sst2\")\n",
    "rte_dataset = load_dataset(\"glue\", \"rte\")\n",
    "\n",
    "datasets_for_classification = {\"cola\": cola_dataset, \"sst2\": sst_dataset, \"rte\":rte_dataset}"
   ]
  },
  {
   "cell_type": "code",
   "execution_count": 6,
   "metadata": {
    "colab": {
     "base_uri": "https://localhost:8080/"
    },
    "id": "cpkFi4MS2d8K",
    "outputId": "72d91130-641c-46fd-f5fd-a538b2f1cc46"
   },
   "outputs": [
    {
     "name": "stdout",
     "output_type": "stream",
     "text": [
      "Dataset cola\n",
      "Subdataset train: 1 - 6023, 0 - 2528\n",
      "Subdataset validation: 1 - 721, 0 - 322\n",
      "Subdataset test: -1 - 1063\n",
      "----------------------------------------------------------------------------------------------------\n",
      "Dataset sst2\n",
      "Subdataset train: 0 - 29780, 1 - 37569\n",
      "Subdataset validation: 1 - 444, 0 - 428\n",
      "Subdataset test: -1 - 1821\n",
      "----------------------------------------------------------------------------------------------------\n",
      "Dataset rte\n",
      "Subdataset train: 1 - 1241, 0 - 1249\n",
      "Subdataset validation: 1 - 131, 0 - 146\n",
      "Subdataset test: -1 - 3000\n",
      "----------------------------------------------------------------------------------------------------\n"
     ]
    }
   ],
   "source": [
    "from collections import Counter\n",
    "\n",
    "for name, dataset_for_classification in datasets_for_classification.items():\n",
    "    print(f\"Dataset {name}\")\n",
    "    \n",
    "    for subdataset_type in dataset_for_classification.keys():\n",
    "        counts = Counter(dataset_for_classification[subdataset_type][\"label\"])\n",
    "        print(f\"Subdataset {subdataset_type}: {', '.join([f'{key} - {value}' for key, value in counts.items()])}\")\n",
    "    \n",
    "    print(\"-\" * 100)"
   ]
  },
  {
   "cell_type": "markdown",
   "metadata": {
    "id": "cuye2XTy2Tx7"
   },
   "source": [
    "# Подготовка библиотек"
   ]
  },
  {
   "cell_type": "code",
   "execution_count": 7,
   "metadata": {
    "id": "RJo9k0nPtQG9"
   },
   "outputs": [],
   "source": [
    "from typing import List, Dict\n",
    "\n",
    "import torch\n",
    "from transformers import AutoModel, AutoTokenizer\n",
    "from torch import nn\n",
    "from torch.utils.data import Dataset, DataLoader\n",
    "import numpy as np\n",
    "\n",
    "device = \"cuda:3\" if torch.cuda.is_available() else \"cpu\""
   ]
  },
  {
   "cell_type": "code",
   "execution_count": 8,
   "metadata": {
    "id": "NzT5q4rADB6A"
   },
   "outputs": [],
   "source": [
    "from sklearn.metrics import accuracy_score, f1_score, precision_score, recall_score\n",
    "from torch.optim import Adam, AdamW\n",
    "from torch.optim.lr_scheduler import ReduceLROnPlateau, MultiStepLR\n",
    "from torch.nn import CrossEntropyLoss\n",
    "from tqdm import tqdm\n",
    "from datasets import concatenate_datasets, DatasetDict"
   ]
  },
  {
   "cell_type": "markdown",
   "metadata": {},
   "source": [
    "Добавим с помощью аугментаций класса, которого мало (либо применим их и к обеим классам). Выбрана аугментация на основе веткорных представлений fasttext, так как она может работать хорошо с незнакомыми словами и имеет хорошие качество и скорость"
   ]
  },
  {
   "cell_type": "code",
   "execution_count": 9,
   "metadata": {
    "colab": {
     "base_uri": "https://localhost:8080/"
    },
    "id": "5eF_sfzUfmrN",
    "outputId": "737fe41f-04d6-4f53-fc04-3f9eee2de65a"
   },
   "outputs": [
    {
     "name": "stderr",
     "output_type": "stream",
     "text": [
      "Loading cached processed dataset at /home/kutuzov/.cache/huggingface/datasets/glue/cola/1.0.0/dacbe3125aa31d7f70367a07a8a9e72a5a0bfeb5fc42e75c9db75b96da6053ad/cache-799240ffcca6a5fc.arrow\n",
      "Loading cached processed dataset at /home/kutuzov/.cache/huggingface/datasets/glue/cola/1.0.0/dacbe3125aa31d7f70367a07a8a9e72a5a0bfeb5fc42e75c9db75b96da6053ad/cache-27540c25911b7177.arrow\n"
     ]
    }
   ],
   "source": [
    "def augment_dataset(word2vec_augmenter):\n",
    "    def augment(x):\n",
    "        return {\"sentence\": word2vec_augmenter.augment(x[\"sentence\"]),\n",
    "                \"label\": x[\"label\"]}\n",
    "    \n",
    "    return augment\n",
    "\n",
    "concated_cola_dataset = DatasetDict()\n",
    "is_augmented = {\"train\": True, \"validation\":False}\n",
    "\n",
    "for dataset_type in [\"train\", \"validation\"]:\n",
    "    if is_augmented[dataset_type]:\n",
    "        dataset_for_concatenation = cola_dataset[dataset_type].filter(lambda x: x[\"label\"] == 0)\n",
    "        dataset_for_concatenation = dataset_for_concatenation.map(augment_dataset(word2vec_augmenter))\n",
    "        \n",
    "        concated_cola_dataset[dataset_type] = concatenate_datasets([cola_dataset[dataset_type], \n",
    "                                                                    dataset_for_concatenation])\n",
    "    else:\n",
    "        concated_cola_dataset[dataset_type] = cola_dataset[dataset_type]"
   ]
  },
  {
   "cell_type": "code",
   "execution_count": 10,
   "metadata": {
    "id": "ncwwYuG6vDsj"
   },
   "outputs": [],
   "source": [
    "def create_prepare_tokens_function(tokenizer, max_length=256):\n",
    "    def prepare_tokens(samples):\n",
    "        tokenized_sentence = tokenizer(samples[\"sentence\"],\n",
    "                                       padding=\"max_length\",\n",
    "                                       max_length=max_length)\n",
    "        return tokenized_sentence\n",
    "    \n",
    "    return prepare_tokens\n",
    "\n",
    "def f1_score_wrapper(n_classes):\n",
    "    if n_classes != 2:\n",
    "        return lambda x, y: f1_score(x, y, average=\"micro\")\n",
    "    \n",
    "    return f1_score"
   ]
  },
  {
   "cell_type": "code",
   "execution_count": 11,
   "metadata": {
    "id": "81WQ_luS65i-"
   },
   "outputs": [],
   "source": [
    "class ClassificationDataset(Dataset):\n",
    "    def __init__(self, data_container: Dataset):\n",
    "        self.data = data_container\n",
    "        \n",
    "    def __len__(self):\n",
    "        return len(self.data)\n",
    "    \n",
    "    def __getitem__(self, idx):\n",
    "        row_data = self.data[idx]\n",
    "        \n",
    "        x = {key:torch.LongTensor(row_data[key]) for key in [\"input_ids\", \"attention_mask\"]}\n",
    "        y = row_data[\"label\"]\n",
    "        return x, y"
   ]
  },
  {
   "cell_type": "code",
   "execution_count": 15,
   "metadata": {
    "id": "nCsvFbcn_HQ0"
   },
   "outputs": [],
   "source": [
    "def train_fn(model, dataloader: DataLoader,\n",
    "             loss_fn: callable, metrics: Dict[str, callable], optimizer):\n",
    "    model.train()\n",
    "    \n",
    "    running_loss = 0\n",
    "    running_losses = []\n",
    "    metrics_values = {key: 0 for key in metrics}\n",
    "    \n",
    "    for x, y in dataloader:\n",
    "        x = {key: value.to(device) for key, value in x.items()}\n",
    "        \n",
    "        optimizer.zero_grad()\n",
    "        \n",
    "        output = model(**x).logits\n",
    "        y_preds = output.argmax(axis=-1)\n",
    "        \n",
    "        loss = loss_fn(output, y.to(device))\n",
    "        loss.backward()\n",
    "        \n",
    "        nn.utils.clip_grad_norm_(model.parameters(), 1.0)\n",
    "        optimizer.step()\n",
    "        \n",
    "        running_losses.append(loss.item())\n",
    "        running_loss += loss.item()\n",
    "        \n",
    "        for metric_name in metrics:\n",
    "            if \"precision\" in metric_name or \"recall\" in metric_name:\n",
    "                metrics_values[metric_name] += metrics[metric_name](y, y_preds.cpu(), zero_division=0)\n",
    "            else:\n",
    "                metrics_values[metric_name] += metrics[metric_name](y, y_preds.cpu())\n",
    "            \n",
    "    return running_loss / len(dataloader),{key: value / len(dataloader) for key, value in metrics_values.items()}\n",
    "\n",
    "def eval_fn(model, dataloader: DataLoader,\n",
    "             loss_fn: callable, metrics: Dict[str, callable]):\n",
    "    model.eval()\n",
    "    \n",
    "    mean_prediction = 0\n",
    "    running_loss = 0\n",
    "    metrics_values = {key: 0 for key in metrics}\n",
    "    \n",
    "    for x, y in dataloader:\n",
    "        x = {key: value.to(device) for key, value in x.items()}\n",
    "        \n",
    "        with torch.no_grad():\n",
    "            output = model(**x).logits\n",
    "        y_preds = output.argmax(axis=-1)\n",
    "        \n",
    "        loss = loss_fn(output, y.to(device))\n",
    "        running_loss += loss.item()\n",
    "        \n",
    "        for metric_name in metrics:\n",
    "            if \"precision\" in metric_name or \"recall\" in metric_name:\n",
    "                metrics_values[metric_name] += metrics[metric_name](y, y_preds.cpu(), zero_division=0)\n",
    "            else:\n",
    "                metrics_values[metric_name] += metrics[metric_name](y, y_preds.cpu())\n",
    "        \n",
    "        mean_prediction += y_preds.cpu().sum()\n",
    "    return running_loss / len(dataloader),{key: value / len(dataloader) for key, value in metrics_values.items()}\n"
   ]
  },
  {
   "cell_type": "code",
   "execution_count": 16,
   "metadata": {
    "colab": {
     "base_uri": "https://localhost:8080/",
     "height": 893
    },
    "id": "jq7KS4zo7WUN",
    "outputId": "dc264821-4012-437c-f8e2-eab25c882de7"
   },
   "outputs": [],
   "source": [
    "from transformers import AutoModelForSequenceClassification, AutoConfig\n",
    "\n",
    "def calculate_weights(labels):\n",
    "    counts = Counter(labels)\n",
    "    \n",
    "    weights = [0 for _ in range(len(counts))]\n",
    "    \n",
    "    for key, value in counts.items():\n",
    "        weights[key] = 2 * len(labels) / value\n",
    "        \n",
    "    weights = torch.FloatTensor(weights)\n",
    "    \n",
    "    return weights\n",
    "\n",
    "\n",
    "def check_hypothesis(model_name, dataset, epochs, batch_size=32,\n",
    "                     weighted=False, metrics_for_logging=dict(),\n",
    "                     lr=1e-2, n_classes=2):\n",
    "    model_config = AutoConfig.from_pretrained(model_name, num_labels=n_classes)\n",
    "    tokenizer = AutoTokenizer.from_pretrained(model_name)\n",
    "    model = AutoModelForSequenceClassification.from_pretrained(model_name, config=model_config,\n",
    "                                                              ignore_mismatched_sizes=True)\n",
    "    model = model.to(device)\n",
    "    \n",
    "    tokenized_dataset = dataset.map(create_prepare_tokens_function(tokenizer), batched=True)\n",
    "    \n",
    "    train_dataset = ClassificationDataset(tokenized_dataset[\"train\"])\n",
    "    eval_dataset = ClassificationDataset(tokenized_dataset[\"validation\"])\n",
    "    \n",
    "    if weighted:\n",
    "        weights = calculate_weights(dataset[\"train\"][\"label\"])\n",
    "    else:\n",
    "        weights = torch.FloatTensor([1 for _ in range(n_classes)])\n",
    "    \n",
    "    train_dataloader = DataLoader(train_dataset, batch_size=batch_size, shuffle=True)\n",
    "    eval_dataloader = DataLoader(eval_dataset, batch_size=32, shuffle=True)\n",
    "    \n",
    "    train_losses, train_metrics, eval_losses, eval_metrics = [], [], [], []\n",
    "    \n",
    "    for key in metrics_for_logging.keys():\n",
    "        if \"f1\" in key:\n",
    "            metrics_for_logging[key] = f1_score_wrapper(n_classes)\n",
    "            \n",
    "    optimizer = AdamW(model.parameters(), lr=lr)\n",
    "    scheduler = MultiStepLR(optimizer, milestones=[3, 5, 7, 9], gamma=0.25)\n",
    "    \n",
    "    for epoch in tqdm(range(epochs)):\n",
    "        train_loss, train_metric = train_fn(model, train_dataloader,\n",
    "                                            CrossEntropyLoss(weights.to(device)), metrics_for_logging, optimizer)\n",
    "        \n",
    "        eval_loss, eval_metric = eval_fn(model, eval_dataloader, CrossEntropyLoss(weights.to(device)), \n",
    "                                         metrics_for_logging)\n",
    "        scheduler.step()\n",
    "        \n",
    "        train_losses.append(train_loss)\n",
    "        train_metrics.append(train_metric)\n",
    "        \n",
    "        eval_losses.append(eval_loss)\n",
    "        eval_metrics.append(eval_metric)\n",
    "    return model, train_losses, train_metrics, eval_losses, eval_metrics"
   ]
  },
  {
   "cell_type": "code",
   "execution_count": null,
   "metadata": {
    "id": "UmwWk5mA8RY0"
   },
   "outputs": [
    {
     "name": "stderr",
     "output_type": "stream",
     "text": [
      "Some weights of RobertaForSequenceClassification were not initialized from the model checkpoint at cardiffnlp/twitter-roberta-base-sentiment and are newly initialized because the shapes did not match:\n",
      "- classifier.out_proj.weight: found shape torch.Size([3, 768]) in the checkpoint and torch.Size([2, 768]) in the model instantiated\n",
      "- classifier.out_proj.bias: found shape torch.Size([3]) in the checkpoint and torch.Size([2]) in the model instantiated\n",
      "You should probably TRAIN this model on a down-stream task to be able to use it for predictions and inference.\n",
      "Loading cached processed dataset at /home/kutuzov/.cache/huggingface/datasets/glue/cola/1.0.0/dacbe3125aa31d7f70367a07a8a9e72a5a0bfeb5fc42e75c9db75b96da6053ad/cache-b5a5000e063d9cd6.arrow\n",
      "Loading cached processed dataset at /home/kutuzov/.cache/huggingface/datasets/glue/cola/1.0.0/dacbe3125aa31d7f70367a07a8a9e72a5a0bfeb5fc42e75c9db75b96da6053ad/cache-84dc3434b375b18e.arrow\n",
      "100%|███████████████████████████████████████████████████████████████████████████████████████████████████████████████████████████████████████████████████████████████████████████████████████████████████████████████████████████████████████████| 5/5 [13:27<00:00, 161.47s/it]\n"
     ]
    },
    {
     "name": "stdout",
     "output_type": "stream",
     "text": [
      "Model name: cardiffnlp/twitter-roberta-base-sentiment, Dataset: cola, Loss: 0.4576879179838932, Lr: 2e-05, accuracy: 0.8219198564593301, f1: 0.8753713067221687, precision: 0.8337591304180738, recall: 0.9259149251691374, \n"
     ]
    },
    {
     "name": "stderr",
     "output_type": "stream",
     "text": [
      "Some weights of RobertaForSequenceClassification were not initialized from the model checkpoint at cardiffnlp/twitter-roberta-base-sentiment and are newly initialized because the shapes did not match:\n",
      "- classifier.out_proj.weight: found shape torch.Size([3, 768]) in the checkpoint and torch.Size([2, 768]) in the model instantiated\n",
      "- classifier.out_proj.bias: found shape torch.Size([3]) in the checkpoint and torch.Size([2]) in the model instantiated\n",
      "You should probably TRAIN this model on a down-stream task to be able to use it for predictions and inference.\n",
      "Loading cached processed dataset at /home/kutuzov/.cache/huggingface/datasets/glue/cola/1.0.0/dacbe3125aa31d7f70367a07a8a9e72a5a0bfeb5fc42e75c9db75b96da6053ad/cache-b5a5000e063d9cd6.arrow\n",
      "Loading cached processed dataset at /home/kutuzov/.cache/huggingface/datasets/glue/cola/1.0.0/dacbe3125aa31d7f70367a07a8a9e72a5a0bfeb5fc42e75c9db75b96da6053ad/cache-84dc3434b375b18e.arrow\n",
      "100%|███████████████████████████████████████████████████████████████████████████████████████████████████████████████████████████████████████████████████████████████████████████████████████████████████████████████████████████████████████████| 5/5 [13:29<00:00, 161.82s/it]\n"
     ]
    },
    {
     "name": "stdout",
     "output_type": "stream",
     "text": [
      "Model name: cardiffnlp/twitter-roberta-base-sentiment, Dataset: cola, Loss: 0.48317303305322473, Lr: 5e-05, accuracy: 0.8276016746411483, f1: 0.8812430877235156, precision: 0.8368154334085006, recall: 0.9350867507059865, \n"
     ]
    },
    {
     "name": "stderr",
     "output_type": "stream",
     "text": [
      "Some weights of RobertaForSequenceClassification were not initialized from the model checkpoint at cardiffnlp/twitter-roberta-base-sentiment and are newly initialized because the shapes did not match:\n",
      "- classifier.out_proj.weight: found shape torch.Size([3, 768]) in the checkpoint and torch.Size([2, 768]) in the model instantiated\n",
      "- classifier.out_proj.bias: found shape torch.Size([3]) in the checkpoint and torch.Size([2]) in the model instantiated\n",
      "You should probably TRAIN this model on a down-stream task to be able to use it for predictions and inference.\n",
      "Loading cached processed dataset at /home/kutuzov/.cache/huggingface/datasets/glue/cola/1.0.0/dacbe3125aa31d7f70367a07a8a9e72a5a0bfeb5fc42e75c9db75b96da6053ad/cache-b5a5000e063d9cd6.arrow\n",
      "Loading cached processed dataset at /home/kutuzov/.cache/huggingface/datasets/glue/cola/1.0.0/dacbe3125aa31d7f70367a07a8a9e72a5a0bfeb5fc42e75c9db75b96da6053ad/cache-84dc3434b375b18e.arrow\n",
      "100%|███████████████████████████████████████████████████████████████████████████████████████████████████████████████████████████████████████████████████████████████████████████████████████████████████████████████████████████████████████████| 5/5 [13:55<00:00, 167.05s/it]\n"
     ]
    },
    {
     "name": "stdout",
     "output_type": "stream",
     "text": [
      "Model name: cardiffnlp/twitter-roberta-base-sentiment, Dataset: cola, Loss: 0.5032100596211173, Lr: 0.0001, accuracy: 0.8124501594896332, f1: 0.8687525165015552, precision: 0.8187685324466935, recall: 0.9292966863816741, \n"
     ]
    },
    {
     "name": "stderr",
     "output_type": "stream",
     "text": [
      "Some weights of BartForSequenceClassification were not initialized from the model checkpoint at facebook/bart-base and are newly initialized: ['classification_head.out_proj.bias', 'classification_head.dense.bias', 'classification_head.out_proj.weight', 'classification_head.dense.weight']\n",
      "You should probably TRAIN this model on a down-stream task to be able to use it for predictions and inference.\n"
     ]
    },
    {
     "data": {
      "application/vnd.jupyter.widget-view+json": {
       "model_id": "90a3141094e84c3d8a5e389ff4bd4dd1",
       "version_major": 2,
       "version_minor": 0
      },
      "text/plain": [
       "  0%|          | 0/12 [00:00<?, ?ba/s]"
      ]
     },
     "metadata": {},
     "output_type": "display_data"
    },
    {
     "name": "stderr",
     "output_type": "stream",
     "text": [
      "Loading cached processed dataset at /home/kutuzov/.cache/huggingface/datasets/glue/cola/1.0.0/dacbe3125aa31d7f70367a07a8a9e72a5a0bfeb5fc42e75c9db75b96da6053ad/cache-35b96ccefbe25b78.arrow\n",
      "  0%|                                                                                                                                                                                                                                                    | 0/5 [00:00<?, ?it/s]"
     ]
    }
   ],
   "source": [
    "import pandas as pd\n",
    "logging_data = {x: [] for x in (\"Model name\", \"Dataset\", \"Loss\", \"Lr\",\n",
    "                               \"accuracy\", \"f1\", \"precision\", \"recall\")}\n",
    "\n",
    "for dataset_name, dataset in ((\"cola\", concated_cola_dataset), (\"sst\", sst_dataset)):\n",
    "    for model_name in [\"cardiffnlp/twitter-roberta-base-sentiment\", \"facebook/bart-base\"]:\n",
    "        for lr in [2e-5, 5e-5, 1e-4]:\n",
    "            hypothesis_result = check_hypothesis(model_name, dataset, 5, 32, True,\n",
    "                                                 {\"accuracy\": accuracy_score, \"f1\": f1_score,\n",
    "                                                  \"precision\":precision_score, \"recall\":recall_score},\n",
    "                                                 lr=lr)\n",
    "            \n",
    "            model, train_losses, train_metrics, eval_losses, eval_metrics = hypothesis_result\n",
    "            \n",
    "            logging_data[\"Model name\"].append(model_name)\n",
    "            logging_data[\"Dataset\"].append(dataset_name)\n",
    "            logging_data[\"Loss\"].append(min(eval_losses))\n",
    "            logging_data[\"Lr\"].append(lr)\n",
    "            \n",
    "            logging_data[\"accuracy\"].append(max(map(lambda x: x[\"accuracy\"], eval_metrics)))\n",
    "            \n",
    "            f1_maximum_index = np.argmax(list(map(lambda x: x[\"f1\"], eval_metrics)))\n",
    "            \n",
    "            for key, value in eval_metrics[f1_maximum_index].items():\n",
    "                if key != \"accuracy\":\n",
    "                    logging_data[key].append(value)\n",
    "                        \n",
    "            for key, value in logging_data.items():\n",
    "                print(f\"{key}: {value[-1]}\", end=\", \")\n",
    "            print()\n",
    "            "
   ]
  },
  {
   "cell_type": "code",
   "execution_count": null,
   "metadata": {
    "id": "ZxofyCVvTIE8"
   },
   "outputs": [],
   "source": [
    "df = pd.DataFrame(logging_data)"
   ]
  },
  {
   "cell_type": "code",
   "execution_count": null,
   "metadata": {},
   "outputs": [],
   "source": [
    "df"
   ]
  },
  {
   "cell_type": "code",
   "execution_count": null,
   "metadata": {},
   "outputs": [],
   "source": [
    "df.to_csv(\"logs_classification.csv\", index=False)"
   ]
  },
  {
   "cell_type": "code",
   "execution_count": null,
   "metadata": {},
   "outputs": [],
   "source": [
    "!nvidia-smi"
   ]
  },
  {
   "cell_type": "code",
   "execution_count": null,
   "metadata": {},
   "outputs": [],
   "source": []
  }
 ],
 "metadata": {
  "accelerator": "GPU",
  "colab": {
   "collapsed_sections": [],
   "name": "GLUE classificators.ipynb",
   "provenance": []
  },
  "kernelspec": {
   "display_name": "Python 3 (ipykernel)",
   "language": "python",
   "name": "python3"
  },
  "language_info": {
   "codemirror_mode": {
    "name": "ipython",
    "version": 3
   },
   "file_extension": ".py",
   "mimetype": "text/x-python",
   "name": "python",
   "nbconvert_exporter": "python",
   "pygments_lexer": "ipython3",
   "version": "3.7.9"
  },
  "widgets": {
   "application/vnd.jupyter.widget-state+json": {
    "0892120cd5164b57ba42ce840f7b2215": {
     "model_module": "@jupyter-widgets/base",
     "model_module_version": "1.2.0",
     "model_name": "LayoutModel",
     "state": {
      "_model_module": "@jupyter-widgets/base",
      "_model_module_version": "1.2.0",
      "_model_name": "LayoutModel",
      "_view_count": null,
      "_view_module": "@jupyter-widgets/base",
      "_view_module_version": "1.2.0",
      "_view_name": "LayoutView",
      "align_content": null,
      "align_items": null,
      "align_self": null,
      "border": null,
      "bottom": null,
      "display": null,
      "flex": null,
      "flex_flow": null,
      "grid_area": null,
      "grid_auto_columns": null,
      "grid_auto_flow": null,
      "grid_auto_rows": null,
      "grid_column": null,
      "grid_gap": null,
      "grid_row": null,
      "grid_template_areas": null,
      "grid_template_columns": null,
      "grid_template_rows": null,
      "height": null,
      "justify_content": null,
      "justify_items": null,
      "left": null,
      "margin": null,
      "max_height": null,
      "max_width": null,
      "min_height": null,
      "min_width": null,
      "object_fit": null,
      "object_position": null,
      "order": null,
      "overflow": null,
      "overflow_x": null,
      "overflow_y": null,
      "padding": null,
      "right": null,
      "top": null,
      "visibility": null,
      "width": null
     }
    },
    "0d03c3e91a5040b78a965137c1cd3186": {
     "model_module": "@jupyter-widgets/controls",
     "model_module_version": "1.5.0",
     "model_name": "FloatProgressModel",
     "state": {
      "_dom_classes": [],
      "_model_module": "@jupyter-widgets/controls",
      "_model_module_version": "1.5.0",
      "_model_name": "FloatProgressModel",
      "_view_count": null,
      "_view_module": "@jupyter-widgets/controls",
      "_view_module_version": "1.5.0",
      "_view_name": "ProgressView",
      "bar_style": "success",
      "description": "",
      "description_tooltip": null,
      "layout": "IPY_MODEL_0892120cd5164b57ba42ce840f7b2215",
      "max": 3,
      "min": 0,
      "orientation": "horizontal",
      "style": "IPY_MODEL_955ebc8b3e7d4306bbbb7ef744dd0978",
      "value": 3
     }
    },
    "122b858f9d1142bc830497af5fba9a62": {
     "model_module": "@jupyter-widgets/controls",
     "model_module_version": "1.5.0",
     "model_name": "HTMLModel",
     "state": {
      "_dom_classes": [],
      "_model_module": "@jupyter-widgets/controls",
      "_model_module_version": "1.5.0",
      "_model_name": "HTMLModel",
      "_view_count": null,
      "_view_module": "@jupyter-widgets/controls",
      "_view_module_version": "1.5.0",
      "_view_name": "HTMLView",
      "description": "",
      "description_tooltip": null,
      "layout": "IPY_MODEL_4493b6125845411aab819edc86816e48",
      "placeholder": "​",
      "style": "IPY_MODEL_757ef18bb32f447989c38a51e860424b",
      "value": "100%"
     }
    },
    "15da10701e4a4b41ba427c81728a7a89": {
     "model_module": "@jupyter-widgets/controls",
     "model_module_version": "1.5.0",
     "model_name": "HBoxModel",
     "state": {
      "_dom_classes": [],
      "_model_module": "@jupyter-widgets/controls",
      "_model_module_version": "1.5.0",
      "_model_name": "HBoxModel",
      "_view_count": null,
      "_view_module": "@jupyter-widgets/controls",
      "_view_module_version": "1.5.0",
      "_view_name": "HBoxView",
      "box_style": "",
      "children": [
       "IPY_MODEL_b43f0ddae05742e98c49cbdd99724157",
       "IPY_MODEL_0d03c3e91a5040b78a965137c1cd3186",
       "IPY_MODEL_adb74075c3a5419ea1255c1307bc4b42"
      ],
      "layout": "IPY_MODEL_165ec092335c471aba4b92c5694818b0"
     }
    },
    "165ec092335c471aba4b92c5694818b0": {
     "model_module": "@jupyter-widgets/base",
     "model_module_version": "1.2.0",
     "model_name": "LayoutModel",
     "state": {
      "_model_module": "@jupyter-widgets/base",
      "_model_module_version": "1.2.0",
      "_model_name": "LayoutModel",
      "_view_count": null,
      "_view_module": "@jupyter-widgets/base",
      "_view_module_version": "1.2.0",
      "_view_name": "LayoutView",
      "align_content": null,
      "align_items": null,
      "align_self": null,
      "border": null,
      "bottom": null,
      "display": null,
      "flex": null,
      "flex_flow": null,
      "grid_area": null,
      "grid_auto_columns": null,
      "grid_auto_flow": null,
      "grid_auto_rows": null,
      "grid_column": null,
      "grid_gap": null,
      "grid_row": null,
      "grid_template_areas": null,
      "grid_template_columns": null,
      "grid_template_rows": null,
      "height": null,
      "justify_content": null,
      "justify_items": null,
      "left": null,
      "margin": null,
      "max_height": null,
      "max_width": null,
      "min_height": null,
      "min_width": null,
      "object_fit": null,
      "object_position": null,
      "order": null,
      "overflow": null,
      "overflow_x": null,
      "overflow_y": null,
      "padding": null,
      "right": null,
      "top": null,
      "visibility": null,
      "width": null
     }
    },
    "2164413a236743bb9bd23866359572a5": {
     "model_module": "@jupyter-widgets/base",
     "model_module_version": "1.2.0",
     "model_name": "LayoutModel",
     "state": {
      "_model_module": "@jupyter-widgets/base",
      "_model_module_version": "1.2.0",
      "_model_name": "LayoutModel",
      "_view_count": null,
      "_view_module": "@jupyter-widgets/base",
      "_view_module_version": "1.2.0",
      "_view_name": "LayoutView",
      "align_content": null,
      "align_items": null,
      "align_self": null,
      "border": null,
      "bottom": null,
      "display": null,
      "flex": null,
      "flex_flow": null,
      "grid_area": null,
      "grid_auto_columns": null,
      "grid_auto_flow": null,
      "grid_auto_rows": null,
      "grid_column": null,
      "grid_gap": null,
      "grid_row": null,
      "grid_template_areas": null,
      "grid_template_columns": null,
      "grid_template_rows": null,
      "height": null,
      "justify_content": null,
      "justify_items": null,
      "left": null,
      "margin": null,
      "max_height": null,
      "max_width": null,
      "min_height": null,
      "min_width": null,
      "object_fit": null,
      "object_position": null,
      "order": null,
      "overflow": null,
      "overflow_x": null,
      "overflow_y": null,
      "padding": null,
      "right": null,
      "top": null,
      "visibility": null,
      "width": null
     }
    },
    "24ab6b4539b242778f0a5a05973fe6be": {
     "model_module": "@jupyter-widgets/controls",
     "model_module_version": "1.5.0",
     "model_name": "HBoxModel",
     "state": {
      "_dom_classes": [],
      "_model_module": "@jupyter-widgets/controls",
      "_model_module_version": "1.5.0",
      "_model_name": "HBoxModel",
      "_view_count": null,
      "_view_module": "@jupyter-widgets/controls",
      "_view_module_version": "1.5.0",
      "_view_name": "HBoxView",
      "box_style": "",
      "children": [
       "IPY_MODEL_3f9644295f18440dab4e9dd4ee1f7ef5",
       "IPY_MODEL_e866d3ddf4454044972c9e8c3145eb07",
       "IPY_MODEL_f082a03494894c888d3bf0ef71fc28fb"
      ],
      "layout": "IPY_MODEL_b77c1a46289b443fbf429dceb2fc5d5d"
     }
    },
    "37498cdc21fd4878b998c81ad78db27b": {
     "model_module": "@jupyter-widgets/controls",
     "model_module_version": "1.5.0",
     "model_name": "DescriptionStyleModel",
     "state": {
      "_model_module": "@jupyter-widgets/controls",
      "_model_module_version": "1.5.0",
      "_model_name": "DescriptionStyleModel",
      "_view_count": null,
      "_view_module": "@jupyter-widgets/base",
      "_view_module_version": "1.2.0",
      "_view_name": "StyleView",
      "description_width": ""
     }
    },
    "3aea9bfd0e244c9e84e08d385a92fc74": {
     "model_module": "@jupyter-widgets/controls",
     "model_module_version": "1.5.0",
     "model_name": "DescriptionStyleModel",
     "state": {
      "_model_module": "@jupyter-widgets/controls",
      "_model_module_version": "1.5.0",
      "_model_name": "DescriptionStyleModel",
      "_view_count": null,
      "_view_module": "@jupyter-widgets/base",
      "_view_module_version": "1.2.0",
      "_view_name": "StyleView",
      "description_width": ""
     }
    },
    "3e3c393d27e14d8ca1968e920425e157": {
     "model_module": "@jupyter-widgets/controls",
     "model_module_version": "1.5.0",
     "model_name": "HBoxModel",
     "state": {
      "_dom_classes": [],
      "_model_module": "@jupyter-widgets/controls",
      "_model_module_version": "1.5.0",
      "_model_name": "HBoxModel",
      "_view_count": null,
      "_view_module": "@jupyter-widgets/controls",
      "_view_module_version": "1.5.0",
      "_view_name": "HBoxView",
      "box_style": "",
      "children": [
       "IPY_MODEL_122b858f9d1142bc830497af5fba9a62",
       "IPY_MODEL_557b330e13194e2588830e2d5ac91ef1",
       "IPY_MODEL_6a7ebf75257f464f800c1b9a5af30cc0"
      ],
      "layout": "IPY_MODEL_2164413a236743bb9bd23866359572a5"
     }
    },
    "3f9644295f18440dab4e9dd4ee1f7ef5": {
     "model_module": "@jupyter-widgets/controls",
     "model_module_version": "1.5.0",
     "model_name": "HTMLModel",
     "state": {
      "_dom_classes": [],
      "_model_module": "@jupyter-widgets/controls",
      "_model_module_version": "1.5.0",
      "_model_name": "HTMLModel",
      "_view_count": null,
      "_view_module": "@jupyter-widgets/controls",
      "_view_module_version": "1.5.0",
      "_view_name": "HTMLView",
      "description": "",
      "description_tooltip": null,
      "layout": "IPY_MODEL_95977757e7714e6eba75ed28219f2421",
      "placeholder": "​",
      "style": "IPY_MODEL_37498cdc21fd4878b998c81ad78db27b",
      "value": "100%"
     }
    },
    "4493b6125845411aab819edc86816e48": {
     "model_module": "@jupyter-widgets/base",
     "model_module_version": "1.2.0",
     "model_name": "LayoutModel",
     "state": {
      "_model_module": "@jupyter-widgets/base",
      "_model_module_version": "1.2.0",
      "_model_name": "LayoutModel",
      "_view_count": null,
      "_view_module": "@jupyter-widgets/base",
      "_view_module_version": "1.2.0",
      "_view_name": "LayoutView",
      "align_content": null,
      "align_items": null,
      "align_self": null,
      "border": null,
      "bottom": null,
      "display": null,
      "flex": null,
      "flex_flow": null,
      "grid_area": null,
      "grid_auto_columns": null,
      "grid_auto_flow": null,
      "grid_auto_rows": null,
      "grid_column": null,
      "grid_gap": null,
      "grid_row": null,
      "grid_template_areas": null,
      "grid_template_columns": null,
      "grid_template_rows": null,
      "height": null,
      "justify_content": null,
      "justify_items": null,
      "left": null,
      "margin": null,
      "max_height": null,
      "max_width": null,
      "min_height": null,
      "min_width": null,
      "object_fit": null,
      "object_position": null,
      "order": null,
      "overflow": null,
      "overflow_x": null,
      "overflow_y": null,
      "padding": null,
      "right": null,
      "top": null,
      "visibility": null,
      "width": null
     }
    },
    "47d5bc9c76444c978b110b0a97666111": {
     "model_module": "@jupyter-widgets/controls",
     "model_module_version": "1.5.0",
     "model_name": "DescriptionStyleModel",
     "state": {
      "_model_module": "@jupyter-widgets/controls",
      "_model_module_version": "1.5.0",
      "_model_name": "DescriptionStyleModel",
      "_view_count": null,
      "_view_module": "@jupyter-widgets/base",
      "_view_module_version": "1.2.0",
      "_view_name": "StyleView",
      "description_width": ""
     }
    },
    "490ac271cf614a0b8aa942b233268021": {
     "model_module": "@jupyter-widgets/base",
     "model_module_version": "1.2.0",
     "model_name": "LayoutModel",
     "state": {
      "_model_module": "@jupyter-widgets/base",
      "_model_module_version": "1.2.0",
      "_model_name": "LayoutModel",
      "_view_count": null,
      "_view_module": "@jupyter-widgets/base",
      "_view_module_version": "1.2.0",
      "_view_name": "LayoutView",
      "align_content": null,
      "align_items": null,
      "align_self": null,
      "border": null,
      "bottom": null,
      "display": null,
      "flex": null,
      "flex_flow": null,
      "grid_area": null,
      "grid_auto_columns": null,
      "grid_auto_flow": null,
      "grid_auto_rows": null,
      "grid_column": null,
      "grid_gap": null,
      "grid_row": null,
      "grid_template_areas": null,
      "grid_template_columns": null,
      "grid_template_rows": null,
      "height": null,
      "justify_content": null,
      "justify_items": null,
      "left": null,
      "margin": null,
      "max_height": null,
      "max_width": null,
      "min_height": null,
      "min_width": null,
      "object_fit": null,
      "object_position": null,
      "order": null,
      "overflow": null,
      "overflow_x": null,
      "overflow_y": null,
      "padding": null,
      "right": null,
      "top": null,
      "visibility": null,
      "width": null
     }
    },
    "557b330e13194e2588830e2d5ac91ef1": {
     "model_module": "@jupyter-widgets/controls",
     "model_module_version": "1.5.0",
     "model_name": "FloatProgressModel",
     "state": {
      "_dom_classes": [],
      "_model_module": "@jupyter-widgets/controls",
      "_model_module_version": "1.5.0",
      "_model_name": "FloatProgressModel",
      "_view_count": null,
      "_view_module": "@jupyter-widgets/controls",
      "_view_module_version": "1.5.0",
      "_view_name": "ProgressView",
      "bar_style": "success",
      "description": "",
      "description_tooltip": null,
      "layout": "IPY_MODEL_fc3972327ee04478b6a7587de823ee9d",
      "max": 3,
      "min": 0,
      "orientation": "horizontal",
      "style": "IPY_MODEL_dc598b7ae277416abe60802188bc2968",
      "value": 3
     }
    },
    "6a7ebf75257f464f800c1b9a5af30cc0": {
     "model_module": "@jupyter-widgets/controls",
     "model_module_version": "1.5.0",
     "model_name": "HTMLModel",
     "state": {
      "_dom_classes": [],
      "_model_module": "@jupyter-widgets/controls",
      "_model_module_version": "1.5.0",
      "_model_name": "HTMLModel",
      "_view_count": null,
      "_view_module": "@jupyter-widgets/controls",
      "_view_module_version": "1.5.0",
      "_view_name": "HTMLView",
      "description": "",
      "description_tooltip": null,
      "layout": "IPY_MODEL_e5d7c32687df4e2183cbf225f4c55ae6",
      "placeholder": "​",
      "style": "IPY_MODEL_3aea9bfd0e244c9e84e08d385a92fc74",
      "value": " 3/3 [00:00&lt;00:00, 60.50it/s]"
     }
    },
    "757ef18bb32f447989c38a51e860424b": {
     "model_module": "@jupyter-widgets/controls",
     "model_module_version": "1.5.0",
     "model_name": "DescriptionStyleModel",
     "state": {
      "_model_module": "@jupyter-widgets/controls",
      "_model_module_version": "1.5.0",
      "_model_name": "DescriptionStyleModel",
      "_view_count": null,
      "_view_module": "@jupyter-widgets/base",
      "_view_module_version": "1.2.0",
      "_view_name": "StyleView",
      "description_width": ""
     }
    },
    "8e64ccab8b004fe996003e6bd708aaaf": {
     "model_module": "@jupyter-widgets/controls",
     "model_module_version": "1.5.0",
     "model_name": "DescriptionStyleModel",
     "state": {
      "_model_module": "@jupyter-widgets/controls",
      "_model_module_version": "1.5.0",
      "_model_name": "DescriptionStyleModel",
      "_view_count": null,
      "_view_module": "@jupyter-widgets/base",
      "_view_module_version": "1.2.0",
      "_view_name": "StyleView",
      "description_width": ""
     }
    },
    "955ebc8b3e7d4306bbbb7ef744dd0978": {
     "model_module": "@jupyter-widgets/controls",
     "model_module_version": "1.5.0",
     "model_name": "ProgressStyleModel",
     "state": {
      "_model_module": "@jupyter-widgets/controls",
      "_model_module_version": "1.5.0",
      "_model_name": "ProgressStyleModel",
      "_view_count": null,
      "_view_module": "@jupyter-widgets/base",
      "_view_module_version": "1.2.0",
      "_view_name": "StyleView",
      "bar_color": null,
      "description_width": ""
     }
    },
    "95977757e7714e6eba75ed28219f2421": {
     "model_module": "@jupyter-widgets/base",
     "model_module_version": "1.2.0",
     "model_name": "LayoutModel",
     "state": {
      "_model_module": "@jupyter-widgets/base",
      "_model_module_version": "1.2.0",
      "_model_name": "LayoutModel",
      "_view_count": null,
      "_view_module": "@jupyter-widgets/base",
      "_view_module_version": "1.2.0",
      "_view_name": "LayoutView",
      "align_content": null,
      "align_items": null,
      "align_self": null,
      "border": null,
      "bottom": null,
      "display": null,
      "flex": null,
      "flex_flow": null,
      "grid_area": null,
      "grid_auto_columns": null,
      "grid_auto_flow": null,
      "grid_auto_rows": null,
      "grid_column": null,
      "grid_gap": null,
      "grid_row": null,
      "grid_template_areas": null,
      "grid_template_columns": null,
      "grid_template_rows": null,
      "height": null,
      "justify_content": null,
      "justify_items": null,
      "left": null,
      "margin": null,
      "max_height": null,
      "max_width": null,
      "min_height": null,
      "min_width": null,
      "object_fit": null,
      "object_position": null,
      "order": null,
      "overflow": null,
      "overflow_x": null,
      "overflow_y": null,
      "padding": null,
      "right": null,
      "top": null,
      "visibility": null,
      "width": null
     }
    },
    "adb74075c3a5419ea1255c1307bc4b42": {
     "model_module": "@jupyter-widgets/controls",
     "model_module_version": "1.5.0",
     "model_name": "HTMLModel",
     "state": {
      "_dom_classes": [],
      "_model_module": "@jupyter-widgets/controls",
      "_model_module_version": "1.5.0",
      "_model_name": "HTMLModel",
      "_view_count": null,
      "_view_module": "@jupyter-widgets/controls",
      "_view_module_version": "1.5.0",
      "_view_name": "HTMLView",
      "description": "",
      "description_tooltip": null,
      "layout": "IPY_MODEL_db4c6fa80b774b468ca113214e1d8a57",
      "placeholder": "​",
      "style": "IPY_MODEL_47d5bc9c76444c978b110b0a97666111",
      "value": " 3/3 [00:00&lt;00:00, 53.77it/s]"
     }
    },
    "b43f0ddae05742e98c49cbdd99724157": {
     "model_module": "@jupyter-widgets/controls",
     "model_module_version": "1.5.0",
     "model_name": "HTMLModel",
     "state": {
      "_dom_classes": [],
      "_model_module": "@jupyter-widgets/controls",
      "_model_module_version": "1.5.0",
      "_model_name": "HTMLModel",
      "_view_count": null,
      "_view_module": "@jupyter-widgets/controls",
      "_view_module_version": "1.5.0",
      "_view_name": "HTMLView",
      "description": "",
      "description_tooltip": null,
      "layout": "IPY_MODEL_490ac271cf614a0b8aa942b233268021",
      "placeholder": "​",
      "style": "IPY_MODEL_8e64ccab8b004fe996003e6bd708aaaf",
      "value": "100%"
     }
    },
    "b77c1a46289b443fbf429dceb2fc5d5d": {
     "model_module": "@jupyter-widgets/base",
     "model_module_version": "1.2.0",
     "model_name": "LayoutModel",
     "state": {
      "_model_module": "@jupyter-widgets/base",
      "_model_module_version": "1.2.0",
      "_model_name": "LayoutModel",
      "_view_count": null,
      "_view_module": "@jupyter-widgets/base",
      "_view_module_version": "1.2.0",
      "_view_name": "LayoutView",
      "align_content": null,
      "align_items": null,
      "align_self": null,
      "border": null,
      "bottom": null,
      "display": null,
      "flex": null,
      "flex_flow": null,
      "grid_area": null,
      "grid_auto_columns": null,
      "grid_auto_flow": null,
      "grid_auto_rows": null,
      "grid_column": null,
      "grid_gap": null,
      "grid_row": null,
      "grid_template_areas": null,
      "grid_template_columns": null,
      "grid_template_rows": null,
      "height": null,
      "justify_content": null,
      "justify_items": null,
      "left": null,
      "margin": null,
      "max_height": null,
      "max_width": null,
      "min_height": null,
      "min_width": null,
      "object_fit": null,
      "object_position": null,
      "order": null,
      "overflow": null,
      "overflow_x": null,
      "overflow_y": null,
      "padding": null,
      "right": null,
      "top": null,
      "visibility": null,
      "width": null
     }
    },
    "bdcd586f49414d3692c937e064031e18": {
     "model_module": "@jupyter-widgets/controls",
     "model_module_version": "1.5.0",
     "model_name": "ProgressStyleModel",
     "state": {
      "_model_module": "@jupyter-widgets/controls",
      "_model_module_version": "1.5.0",
      "_model_name": "ProgressStyleModel",
      "_view_count": null,
      "_view_module": "@jupyter-widgets/base",
      "_view_module_version": "1.2.0",
      "_view_name": "StyleView",
      "bar_color": null,
      "description_width": ""
     }
    },
    "d7321f25be6043b2acecb1dc63ad7614": {
     "model_module": "@jupyter-widgets/controls",
     "model_module_version": "1.5.0",
     "model_name": "DescriptionStyleModel",
     "state": {
      "_model_module": "@jupyter-widgets/controls",
      "_model_module_version": "1.5.0",
      "_model_name": "DescriptionStyleModel",
      "_view_count": null,
      "_view_module": "@jupyter-widgets/base",
      "_view_module_version": "1.2.0",
      "_view_name": "StyleView",
      "description_width": ""
     }
    },
    "dae514ddc0b6427eae0b8806a28eb9fd": {
     "model_module": "@jupyter-widgets/base",
     "model_module_version": "1.2.0",
     "model_name": "LayoutModel",
     "state": {
      "_model_module": "@jupyter-widgets/base",
      "_model_module_version": "1.2.0",
      "_model_name": "LayoutModel",
      "_view_count": null,
      "_view_module": "@jupyter-widgets/base",
      "_view_module_version": "1.2.0",
      "_view_name": "LayoutView",
      "align_content": null,
      "align_items": null,
      "align_self": null,
      "border": null,
      "bottom": null,
      "display": null,
      "flex": null,
      "flex_flow": null,
      "grid_area": null,
      "grid_auto_columns": null,
      "grid_auto_flow": null,
      "grid_auto_rows": null,
      "grid_column": null,
      "grid_gap": null,
      "grid_row": null,
      "grid_template_areas": null,
      "grid_template_columns": null,
      "grid_template_rows": null,
      "height": null,
      "justify_content": null,
      "justify_items": null,
      "left": null,
      "margin": null,
      "max_height": null,
      "max_width": null,
      "min_height": null,
      "min_width": null,
      "object_fit": null,
      "object_position": null,
      "order": null,
      "overflow": null,
      "overflow_x": null,
      "overflow_y": null,
      "padding": null,
      "right": null,
      "top": null,
      "visibility": null,
      "width": null
     }
    },
    "db4c6fa80b774b468ca113214e1d8a57": {
     "model_module": "@jupyter-widgets/base",
     "model_module_version": "1.2.0",
     "model_name": "LayoutModel",
     "state": {
      "_model_module": "@jupyter-widgets/base",
      "_model_module_version": "1.2.0",
      "_model_name": "LayoutModel",
      "_view_count": null,
      "_view_module": "@jupyter-widgets/base",
      "_view_module_version": "1.2.0",
      "_view_name": "LayoutView",
      "align_content": null,
      "align_items": null,
      "align_self": null,
      "border": null,
      "bottom": null,
      "display": null,
      "flex": null,
      "flex_flow": null,
      "grid_area": null,
      "grid_auto_columns": null,
      "grid_auto_flow": null,
      "grid_auto_rows": null,
      "grid_column": null,
      "grid_gap": null,
      "grid_row": null,
      "grid_template_areas": null,
      "grid_template_columns": null,
      "grid_template_rows": null,
      "height": null,
      "justify_content": null,
      "justify_items": null,
      "left": null,
      "margin": null,
      "max_height": null,
      "max_width": null,
      "min_height": null,
      "min_width": null,
      "object_fit": null,
      "object_position": null,
      "order": null,
      "overflow": null,
      "overflow_x": null,
      "overflow_y": null,
      "padding": null,
      "right": null,
      "top": null,
      "visibility": null,
      "width": null
     }
    },
    "dc598b7ae277416abe60802188bc2968": {
     "model_module": "@jupyter-widgets/controls",
     "model_module_version": "1.5.0",
     "model_name": "ProgressStyleModel",
     "state": {
      "_model_module": "@jupyter-widgets/controls",
      "_model_module_version": "1.5.0",
      "_model_name": "ProgressStyleModel",
      "_view_count": null,
      "_view_module": "@jupyter-widgets/base",
      "_view_module_version": "1.2.0",
      "_view_name": "StyleView",
      "bar_color": null,
      "description_width": ""
     }
    },
    "e212885869384ae58b6dc61efa0bae77": {
     "model_module": "@jupyter-widgets/base",
     "model_module_version": "1.2.0",
     "model_name": "LayoutModel",
     "state": {
      "_model_module": "@jupyter-widgets/base",
      "_model_module_version": "1.2.0",
      "_model_name": "LayoutModel",
      "_view_count": null,
      "_view_module": "@jupyter-widgets/base",
      "_view_module_version": "1.2.0",
      "_view_name": "LayoutView",
      "align_content": null,
      "align_items": null,
      "align_self": null,
      "border": null,
      "bottom": null,
      "display": null,
      "flex": null,
      "flex_flow": null,
      "grid_area": null,
      "grid_auto_columns": null,
      "grid_auto_flow": null,
      "grid_auto_rows": null,
      "grid_column": null,
      "grid_gap": null,
      "grid_row": null,
      "grid_template_areas": null,
      "grid_template_columns": null,
      "grid_template_rows": null,
      "height": null,
      "justify_content": null,
      "justify_items": null,
      "left": null,
      "margin": null,
      "max_height": null,
      "max_width": null,
      "min_height": null,
      "min_width": null,
      "object_fit": null,
      "object_position": null,
      "order": null,
      "overflow": null,
      "overflow_x": null,
      "overflow_y": null,
      "padding": null,
      "right": null,
      "top": null,
      "visibility": null,
      "width": null
     }
    },
    "e5d7c32687df4e2183cbf225f4c55ae6": {
     "model_module": "@jupyter-widgets/base",
     "model_module_version": "1.2.0",
     "model_name": "LayoutModel",
     "state": {
      "_model_module": "@jupyter-widgets/base",
      "_model_module_version": "1.2.0",
      "_model_name": "LayoutModel",
      "_view_count": null,
      "_view_module": "@jupyter-widgets/base",
      "_view_module_version": "1.2.0",
      "_view_name": "LayoutView",
      "align_content": null,
      "align_items": null,
      "align_self": null,
      "border": null,
      "bottom": null,
      "display": null,
      "flex": null,
      "flex_flow": null,
      "grid_area": null,
      "grid_auto_columns": null,
      "grid_auto_flow": null,
      "grid_auto_rows": null,
      "grid_column": null,
      "grid_gap": null,
      "grid_row": null,
      "grid_template_areas": null,
      "grid_template_columns": null,
      "grid_template_rows": null,
      "height": null,
      "justify_content": null,
      "justify_items": null,
      "left": null,
      "margin": null,
      "max_height": null,
      "max_width": null,
      "min_height": null,
      "min_width": null,
      "object_fit": null,
      "object_position": null,
      "order": null,
      "overflow": null,
      "overflow_x": null,
      "overflow_y": null,
      "padding": null,
      "right": null,
      "top": null,
      "visibility": null,
      "width": null
     }
    },
    "e866d3ddf4454044972c9e8c3145eb07": {
     "model_module": "@jupyter-widgets/controls",
     "model_module_version": "1.5.0",
     "model_name": "FloatProgressModel",
     "state": {
      "_dom_classes": [],
      "_model_module": "@jupyter-widgets/controls",
      "_model_module_version": "1.5.0",
      "_model_name": "FloatProgressModel",
      "_view_count": null,
      "_view_module": "@jupyter-widgets/controls",
      "_view_module_version": "1.5.0",
      "_view_name": "ProgressView",
      "bar_style": "success",
      "description": "",
      "description_tooltip": null,
      "layout": "IPY_MODEL_e212885869384ae58b6dc61efa0bae77",
      "max": 3,
      "min": 0,
      "orientation": "horizontal",
      "style": "IPY_MODEL_bdcd586f49414d3692c937e064031e18",
      "value": 3
     }
    },
    "f082a03494894c888d3bf0ef71fc28fb": {
     "model_module": "@jupyter-widgets/controls",
     "model_module_version": "1.5.0",
     "model_name": "HTMLModel",
     "state": {
      "_dom_classes": [],
      "_model_module": "@jupyter-widgets/controls",
      "_model_module_version": "1.5.0",
      "_model_name": "HTMLModel",
      "_view_count": null,
      "_view_module": "@jupyter-widgets/controls",
      "_view_module_version": "1.5.0",
      "_view_name": "HTMLView",
      "description": "",
      "description_tooltip": null,
      "layout": "IPY_MODEL_dae514ddc0b6427eae0b8806a28eb9fd",
      "placeholder": "​",
      "style": "IPY_MODEL_d7321f25be6043b2acecb1dc63ad7614",
      "value": " 3/3 [00:00&lt;00:00, 54.52it/s]"
     }
    },
    "fc3972327ee04478b6a7587de823ee9d": {
     "model_module": "@jupyter-widgets/base",
     "model_module_version": "1.2.0",
     "model_name": "LayoutModel",
     "state": {
      "_model_module": "@jupyter-widgets/base",
      "_model_module_version": "1.2.0",
      "_model_name": "LayoutModel",
      "_view_count": null,
      "_view_module": "@jupyter-widgets/base",
      "_view_module_version": "1.2.0",
      "_view_name": "LayoutView",
      "align_content": null,
      "align_items": null,
      "align_self": null,
      "border": null,
      "bottom": null,
      "display": null,
      "flex": null,
      "flex_flow": null,
      "grid_area": null,
      "grid_auto_columns": null,
      "grid_auto_flow": null,
      "grid_auto_rows": null,
      "grid_column": null,
      "grid_gap": null,
      "grid_row": null,
      "grid_template_areas": null,
      "grid_template_columns": null,
      "grid_template_rows": null,
      "height": null,
      "justify_content": null,
      "justify_items": null,
      "left": null,
      "margin": null,
      "max_height": null,
      "max_width": null,
      "min_height": null,
      "min_width": null,
      "object_fit": null,
      "object_position": null,
      "order": null,
      "overflow": null,
      "overflow_x": null,
      "overflow_y": null,
      "padding": null,
      "right": null,
      "top": null,
      "visibility": null,
      "width": null
     }
    }
   }
  }
 },
 "nbformat": 4,
 "nbformat_minor": 1
}
